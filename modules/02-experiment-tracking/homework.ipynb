{
 "cells": [
  {
   "cell_type": "markdown",
   "id": "c3ef4b1c",
   "metadata": {},
   "source": [
    "## Q1. Install MLflow\n",
    "\n",
    "What's the version that you have?\n",
    "\n",
    "**Version 3.1.1**"
   ]
  },
  {
   "cell_type": "markdown",
   "id": "146553b2",
   "metadata": {},
   "source": [
    "## Q2. Download and preprocess the data\n",
    "\n",
    "How many files were saved to `output` folder?\n",
    "\n",
    "**4**\n",
    "\n"
   ]
  },
  {
   "cell_type": "markdown",
   "id": "22e29366",
   "metadata": {},
   "source": [
    "## Q3. Train a model with autolog\n",
    "\n",
    "What is the value of the `min_samples_split` parameter:\n",
    "\n",
    "**2**"
   ]
  },
  {
   "cell_type": "markdown",
   "id": "2cb18824",
   "metadata": {},
   "source": [
    "## Q4. Launch the tracking server locally\n",
    "\n",
    "In addition to `backend-store-uri`, what else do you need to pass to properly configure the server?\n",
    "\n",
    "**`default-artifact-root`**"
   ]
  },
  {
   "cell_type": "markdown",
   "id": "9102d1b4",
   "metadata": {},
   "source": [
    "## Q5. Tune model hyperparameters\n",
    "\n",
    "What's the best validation RMSE that you got?\n",
    "\n",
    "**5.836**"
   ]
  },
  {
   "cell_type": "markdown",
   "id": "2f5fcda3",
   "metadata": {},
   "source": [
    "## Q6. Promote the best model to the model registry\n",
    "\n",
    "What is the test RMSE of the best model?\n",
    "\n",
    "**5.833**"
   ]
  }
 ],
 "metadata": {
  "language_info": {
   "name": "python"
  }
 },
 "nbformat": 4,
 "nbformat_minor": 5
}
